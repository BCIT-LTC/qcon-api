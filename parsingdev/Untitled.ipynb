{
 "cells": [
  {
   "cell_type": "code",
   "execution_count": 3,
   "metadata": {},
   "outputs": [
    {
     "name": "stdout",
     "output_type": "stream",
     "text": [
      "1. Salespeople do not need to know the background and present operating policies of their companies to do their job effectively\r\n",
      "\n",
      "a) True\r\n",
      "\n",
      "b) *False\r\n",
      "\n",
      "\r\n",
      "\n",
      "2. Which of the following pieces of information would be LEAST important for a salesperson to know about the product they sell?\r\n",
      "\n",
      "a) How the product performs\r\n",
      "\n",
      "b) how well the product is selling in the marketplace\r\n",
      "\n",
      "c) *specific features, advantages, and benefits of the product\r\n",
      "\n",
      "d) *physical size and characteristics of the product\r\n",
      "\n",
      "e) *how to make the product\r\n",
      "\n",
      "\r\n",
      "\n",
      "3. The statement \"This chicken is quick-frozen at 30 degrees below zero,\" is an example of a/an:\r\n",
      "\n",
      "a) benefit\r\n",
      "\n",
      "b) market need\r\n",
      "\n",
      "c) advantage\r\n",
      "\n",
      "d) segmentation variable\r\n",
      "\n",
      "e) feature\r\n",
      "\n",
      "\r\n",
      "\n",
      "\r\n",
      "\n",
      "4. The statement \"These flower planters are available in 3-inch, 5-inch, and 8-inch sizes,\" is an example of a/an:\r\n",
      "\n",
      "a) advantage advantage advantage advantage advantage advantage advantage advantage advantage advantage advantage advantage\r\n",
      "\n",
      "\r\n",
      "\n",
      "5. The statement \"The new Kenmore vacuum saves time, work, and money,\" is an example of a/an:\r\n",
      "\n",
      "a) feature = some text 1\r\n",
      "\n",
      "b) segmentation variable = some text 2\r\n",
      "\n",
      "c) advantage = some text 3\r\n",
      "\n",
      "d) *benefit = some text 4\r\n",
      "\n",
      "e) market trait = some text 5\r\n",
      "\n",
      "\r\n",
      "\n",
      "6. In [Benefit] selling the salesperson relates a product's benefit to the customer's needs using the product's features and advantages to support the claims made.\r\n",
      "\n"
     ]
    }
   ],
   "source": [
    "import os.path\n",
    "import re\n",
    "\n",
    "my_path = os.path.abspath('')\n",
    "path = os.path.join(my_path, \"test2.txt\")\n",
    "\n",
    "with open(path, newline='') as f:\n",
    "#     test = list(csv.reader(f))\n",
    "#     print(str(f))\n",
    "#     test = list(csv.reader(f))\n",
    "    test = f.readlines() \n",
    "\n",
    "    for line in test:\n",
    "        print(line)"
   ]
  },
  {
   "cell_type": "code",
   "execution_count": null,
   "metadata": {},
   "outputs": [],
   "source": []
  }
 ],
 "metadata": {
  "kernelspec": {
   "display_name": "Python 3",
   "language": "python",
   "name": "python3"
  },
  "language_info": {
   "codemirror_mode": {
    "name": "ipython",
    "version": 3
   },
   "file_extension": ".py",
   "mimetype": "text/x-python",
   "name": "python",
   "nbconvert_exporter": "python",
   "pygments_lexer": "ipython3",
   "version": "3.8.5"
  }
 },
 "nbformat": 4,
 "nbformat_minor": 4
}
