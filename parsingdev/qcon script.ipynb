{
 "cells": [
  {
   "cell_type": "code",
   "execution_count": 1,
   "metadata": {},
   "outputs": [
    {
     "name": "stdout",
     "output_type": "stream",
     "text": [
      "current Question: 1\n",
      "one test\n",
      "first second  \n",
      "a.4\n",
      "b.3\n",
      "*c.31\n",
      "d.8\n",
      "current Question: 2\n",
      "a.8\n",
      "*b.9\n",
      "c.2\n",
      "d.5\n",
      "current Question: 3\n",
      "current Question: 4\n",
      "2 birds\n",
      "current Question: 4\n",
      "1 stone\n",
      "a.5\n",
      "b.7\n",
      "c.10\n",
      "*d.8\n",
      "current Question: 4\n",
      "*a.3\n",
      "b.5\n",
      "c.9\n",
      "d.31\n",
      "Hello from a function\n",
      "[['Site  Clearing', 'one test', 'first second  ', 'a.4', 'b.3', '*c.31', 'd.8'], ['Carpeting', 'a.8', '*b.9', 'c.2', 'd.5'], ['Windows there were ', '2 birds', '1 stone', 'a.5', 'b.7', 'c.10', '*d.8'], ['Reinforcing Steel', '*a.3', 'b.5', 'c.9', 'd.31']]\n",
      "4\n"
     ]
    }
   ],
   "source": [
    "import os.path\n",
    "import re\n",
    "import func\n",
    "\n",
    "my_path = os.path.abspath('')\n",
    "path = os.path.join(my_path, \"test.txt\")\n",
    "\n",
    "\n",
    "with open(path, newline='') as f:\n",
    "#     test = f.readlines() \n",
    "    test = f.read().splitlines()\n",
    "    full_list = []  # string    \n",
    "    track_question = 0 # to track number of questions detected    \n",
    "   \n",
    "    question_block = []\n",
    "    \n",
    "    for line in test:        \n",
    "              \n",
    "        if len(line) > 0:\n",
    "            \n",
    "            current_string = line.lstrip()                      \n",
    "#             print(current_string)  \n",
    "#             print(full_list)\n",
    "            \n",
    "            if current_string.startswith(tuple('0123456789')):\n",
    "                print(\"current Question: \" + str(track_question+1))                \n",
    "                q_index = re.search(r'^(\\d+)s{0,}[\\)|\\.]{1}\\s{0,}', current_string)\n",
    "\n",
    "#                 print(q_index.group(0)) # full match, numbering and delimeters    \n",
    "#                 print(q_index.group(1)) # just the number\n",
    "    \n",
    "                # If match is found then check if its a new question.\n",
    "                # Else treat it as content for the current question.\n",
    "                if q_index != None:               \n",
    "                    \n",
    "                    #extra Check to make sure the question is incremental relative to the previous question. \n",
    "                    #It assumes that the questions in the doc are numbered correctly\n",
    "#                     if int(q_index.group(1)) == track_question + 1:\n",
    "#                         print(q_index)\n",
    "#                         print(current_string)\n",
    "#                         print(current_string.replace(q_index.group(0),\"\"))\n",
    "                        \n",
    "                    if track_question != 0:                \n",
    "                        full_list.append(question_block)    \n",
    "                    question_block = []    \n",
    "                    track_question += 1 \n",
    "                    question_block.append(current_string.replace(q_index.group(0),\"\"))                                           \n",
    "#                     else: \n",
    "#                         print(current_string) \n",
    "#                         question_block.append(current_string)\n",
    "                else:\n",
    "                    question_block.append(current_string)\n",
    "                    print(current_string)\n",
    "\n",
    "            else:\n",
    "                question_block.append(current_string)\n",
    "                print(current_string)\n",
    "\n",
    "    func.my_function()\n",
    "    full_list.append(question_block) \n",
    "    print(full_list)\n",
    "    print(track_question)\n",
    "\n",
    "    \n",
    "\n",
    "        \n",
    "    "
   ]
  },
  {
   "cell_type": "code",
   "execution_count": null,
   "metadata": {},
   "outputs": [],
   "source": [
    "    "
   ]
  },
  {
   "cell_type": "code",
   "execution_count": null,
   "metadata": {},
   "outputs": [],
   "source": []
  },
  {
   "cell_type": "code",
   "execution_count": null,
   "metadata": {},
   "outputs": [],
   "source": []
  }
 ],
 "metadata": {
  "kernelspec": {
   "display_name": "Python 3",
   "language": "python",
   "name": "python3"
  },
  "language_info": {
   "codemirror_mode": {
    "name": "ipython",
    "version": 3
   },
   "file_extension": ".py",
   "mimetype": "text/x-python",
   "name": "python",
   "nbconvert_exporter": "python",
   "pygments_lexer": "ipython3",
   "version": "3.8.5"
  }
 },
 "nbformat": 4,
 "nbformat_minor": 4
}
